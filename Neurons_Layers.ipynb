{
  "nbformat": 4,
  "nbformat_minor": 0,
  "metadata": {
    "colab": {
      "name": "Neurons_Layers.ipynb",
      "provenance": [],
      "authorship_tag": "ABX9TyN5CscRFn6rLBLBSbOao9gk",
      "include_colab_link": true
    },
    "kernelspec": {
      "name": "python3",
      "display_name": "Python 3"
    },
    "language_info": {
      "name": "python"
    }
  },
  "cells": [
    {
      "cell_type": "markdown",
      "metadata": {
        "id": "view-in-github",
        "colab_type": "text"
      },
      "source": [
        "<a href=\"https://colab.research.google.com/github/RitulMohan/TF.Autoencoder/blob/main/Neurons_Layers.ipynb\" target=\"_parent\"><img src=\"https://colab.research.google.com/assets/colab-badge.svg\" alt=\"Open In Colab\"/></a>"
      ]
    },
    {
      "cell_type": "code",
      "source": [
        "pip install keras"
      ],
      "metadata": {
        "colab": {
          "base_uri": "https://localhost:8080/"
        },
        "id": "46nNDT2iRtQn",
        "outputId": "4228801b-7c5f-4bef-ee3f-ea39b620e6e5"
      },
      "execution_count": 26,
      "outputs": [
        {
          "output_type": "stream",
          "name": "stdout",
          "text": [
            "Looking in indexes: https://pypi.org/simple, https://us-python.pkg.dev/colab-wheels/public/simple/\n",
            "Requirement already satisfied: keras in /usr/local/lib/python3.7/dist-packages (2.8.0)\n"
          ]
        }
      ]
    },
    {
      "cell_type": "code",
      "execution_count": 25,
      "metadata": {
        "id": "cHK3Y-3gRTi1"
      },
      "outputs": [],
      "source": [
        "import numpy as np\n",
        "import matplotlib.pyplot as plt\n",
        "import tensorflow as tf\n",
        "'''\n",
        "from tensorflow.keras.layers import Dense, Input\n",
        "from tensorflow.keras import Sequential\n",
        "from tensorflow.keras.losses import MeanSquaredError, BinaryCrossentropy\n",
        "from tensorflow.keras.activations import sigmoid\n",
        "'''\n",
        "\n",
        "from tensorflow.keras.layers import Dense, Input\n",
        "from tensorflow.keras import Sequential\n",
        "from tensorflow.keras.losses import MeanSquaredError, BinaryCrossentropy\n",
        "from tensorflow.keras.activations import sigmoid"
      ]
    },
    {
      "cell_type": "code",
      "source": [
        "X_train = np.array([[1.0], [2.0]], dtype=np.float32)           #(size in 1000 square feet)\n",
        "Y_train = np.array([[300.0], [500.0]], dtype=np.float32)"
      ],
      "metadata": {
        "id": "bgfyGeH6R0ME"
      },
      "execution_count": 33,
      "outputs": []
    },
    {
      "cell_type": "markdown",
      "source": [
        "the activation function for a linear model still remains \n",
        "\n",
        "f(x) = w.x+b \n",
        "\n",
        "We can define a layer with one neuron or unit and compare it to the familiar linear regression function."
      ],
      "metadata": {
        "id": "Vk9OVe_KCmp4"
      }
    },
    {
      "cell_type": "code",
      "source": [
        "linear_layer = tf.keras.layers.Dense(units = 1, activation = 'linear')"
      ],
      "metadata": {
        "id": "90BA7aNKR9NZ"
      },
      "execution_count": 6,
      "outputs": []
    },
    {
      "cell_type": "code",
      "source": [
        "linear_layer.get_weights()"
      ],
      "metadata": {
        "colab": {
          "base_uri": "https://localhost:8080/"
        },
        "id": "g6fQTqn4SCOv",
        "outputId": "88a2459e-b9c8-45a8-d5d7-6ff2181fbd4c"
      },
      "execution_count": 7,
      "outputs": [
        {
          "output_type": "execute_result",
          "data": {
            "text/plain": [
              "[]"
            ]
          },
          "metadata": {},
          "execution_count": 7
        }
      ]
    },
    {
      "cell_type": "markdown",
      "source": [
        "There are no weights as the weights are not yet instantiated. Let's try the model on one example in X_train. This will trigger the instantiation of the weights. Note, the input to the layer must be 2-D, so we'll reshape it."
      ],
      "metadata": {
        "id": "kDbzcvRXSGkN"
      }
    },
    {
      "cell_type": "code",
      "source": [
        "a1 = linear_layer(X_train[0].reshape(1,1))\n",
        "print(a1)"
      ],
      "metadata": {
        "colab": {
          "base_uri": "https://localhost:8080/"
        },
        "id": "p1hWQ3hJSKUK",
        "outputId": "83f2b820-d04e-4361-fb78-02a06099f932"
      },
      "execution_count": 34,
      "outputs": [
        {
          "output_type": "stream",
          "name": "stdout",
          "text": [
            "tf.Tensor([[300.]], shape=(1, 1), dtype=float32)\n"
          ]
        }
      ]
    },
    {
      "cell_type": "code",
      "source": [
        "w, b= linear_layer.get_weights()\n",
        "print(f\"w = {w}, b={b}\")"
      ],
      "metadata": {
        "colab": {
          "base_uri": "https://localhost:8080/"
        },
        "id": "HivdTU55SPwE",
        "outputId": "7dd276c7-42c5-410b-eb14-404238ec2a90"
      },
      "execution_count": 35,
      "outputs": [
        {
          "output_type": "stream",
          "name": "stdout",
          "text": [
            "w = [[200.]], b=[100.]\n"
          ]
        }
      ]
    },
    {
      "cell_type": "code",
      "source": [
        "set_w = np.array([[200]])\n",
        "set_b = np.array([100])\n",
        "\n",
        "# set_weights takes a list of numpy arrays\n",
        "linear_layer.set_weights([set_w, set_b])\n",
        "print(linear_layer.get_weights())"
      ],
      "metadata": {
        "colab": {
          "base_uri": "https://localhost:8080/"
        },
        "id": "SpcsCgGhSTF4",
        "outputId": "a42084dc-d8f2-43b2-8f92-78308e416b23"
      },
      "execution_count": 10,
      "outputs": [
        {
          "output_type": "stream",
          "name": "stdout",
          "text": [
            "[array([[200.]], dtype=float32), array([100.], dtype=float32)]\n"
          ]
        }
      ]
    },
    {
      "cell_type": "code",
      "source": [
        "a1 = linear_layer(X_train[0].reshape(1,1))\n",
        "print(a1)\n",
        "alin = np.dot(set_w,X_train[0].reshape(1,1)) + set_b\n",
        "print(alin)"
      ],
      "metadata": {
        "colab": {
          "base_uri": "https://localhost:8080/"
        },
        "id": "lPwYGIs_SWei",
        "outputId": "73ade245-9f9b-41ce-eff3-91262ecf6f2a"
      },
      "execution_count": 11,
      "outputs": [
        {
          "output_type": "stream",
          "name": "stdout",
          "text": [
            "tf.Tensor([[300.]], shape=(1, 1), dtype=float32)\n",
            "[[300.]]\n"
          ]
        }
      ]
    },
    {
      "cell_type": "code",
      "source": [
        "prediction_tf = linear_layer(X_train)\n",
        "prediction_np = np.dot( X_train, set_w) + set_b"
      ],
      "metadata": {
        "id": "cM3uYKS6SdiX"
      },
      "execution_count": 12,
      "outputs": []
    },
    {
      "cell_type": "markdown",
      "source": [
        "# neurons with sigmoid activation "
      ],
      "metadata": {
        "id": "oIhkw0CBSmIF"
      }
    },
    {
      "cell_type": "code",
      "source": [
        "X_train = np.array([0., 1, 2, 3, 4, 5], dtype=np.float32).reshape(-1,1)  # 2-D Matrix\n",
        "Y_train = np.array([0,  0, 0, 1, 1, 1], dtype=np.float32).reshape(-1,1)  # 2-D Matrix"
      ],
      "metadata": {
        "id": "rx3pHZ1MStMa"
      },
      "execution_count": 40,
      "outputs": []
    },
    {
      "cell_type": "code",
      "source": [
        "positive = Y_train == 1\n",
        "negative = Y_train == 0\n",
        "X_train[positive]"
      ],
      "metadata": {
        "colab": {
          "base_uri": "https://localhost:8080/"
        },
        "id": "hWFUiwBmSztW",
        "outputId": "cbcf73fb-119d-48ec-ce37-5c8ce3c3fbb8"
      },
      "execution_count": 41,
      "outputs": [
        {
          "output_type": "execute_result",
          "data": {
            "text/plain": [
              "array([3., 4., 5.], dtype=float32)"
            ]
          },
          "metadata": {},
          "execution_count": 41
        }
      ]
    },
    {
      "cell_type": "markdown",
      "source": [
        "# *The logistic neuron*\n"
      ],
      "metadata": {
        "id": "N6YhJSrIFqVg"
      }
    },
    {
      "cell_type": "code",
      "source": [
        "model = Sequential([tf.keras.layers.Dense(1, input_dim=1,  activation = 'sigmoid', name = 'L1')])"
      ],
      "metadata": {
        "id": "GRTA1sdyS9GY"
      },
      "execution_count": 43,
      "outputs": []
    },
    {
      "cell_type": "code",
      "source": [
        "model.summary()"
      ],
      "metadata": {
        "colab": {
          "base_uri": "https://localhost:8080/"
        },
        "id": "n0Z6XyivS_Nz",
        "outputId": "5a1ea92c-efcb-4fb4-cd54-9fc683e48fdc"
      },
      "execution_count": 39,
      "outputs": [
        {
          "output_type": "stream",
          "name": "stdout",
          "text": [
            "Model: \"sequential_1\"\n",
            "_________________________________________________________________\n",
            " Layer (type)                Output Shape              Param #   \n",
            "=================================================================\n",
            " dense_1 (Dense)             (None, 1)                 2         \n",
            "                                                                 \n",
            "=================================================================\n",
            "Total params: 2\n",
            "Trainable params: 2\n",
            "Non-trainable params: 0\n",
            "_________________________________________________________________\n"
          ]
        }
      ]
    },
    {
      "cell_type": "code",
      "source": [
        "logistic_layer = model.get_layer('L1')\n",
        "w,b = logistic_layer.get_weights()\n",
        "print(w,b)\n",
        "print(w.shape,b.shape)"
      ],
      "metadata": {
        "colab": {
          "base_uri": "https://localhost:8080/"
        },
        "id": "fHNf6OyATCY7",
        "outputId": "0ff22f1b-05d3-49ca-f25b-3ea8de08b8ab"
      },
      "execution_count": 44,
      "outputs": [
        {
          "output_type": "stream",
          "name": "stdout",
          "text": [
            "[[0.918074]] [0.]\n",
            "(1, 1) (1,)\n"
          ]
        }
      ]
    },
    {
      "cell_type": "code",
      "source": [
        "set_w = np.array([[2]])\n",
        "set_b = np.array([-4.5])\n",
        "# set_weights takes a list of numpy arrays\n",
        "logistic_layer.set_weights([set_w, set_b])\n",
        "print(logistic_layer.get_weights())"
      ],
      "metadata": {
        "colab": {
          "base_uri": "https://localhost:8080/"
        },
        "id": "XnFVtX3QTEpc",
        "outputId": "f7bd7b44-3652-45c9-cb6a-c86d11f24921"
      },
      "execution_count": 22,
      "outputs": [
        {
          "output_type": "stream",
          "name": "stdout",
          "text": [
            "[array([[2.]], dtype=float32), array([-4.5], dtype=float32)]\n"
          ]
        }
      ]
    }
  ]
}