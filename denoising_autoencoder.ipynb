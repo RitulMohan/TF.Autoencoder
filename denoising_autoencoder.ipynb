{
  "nbformat": 4,
  "nbformat_minor": 0,
  "metadata": {
    "colab": {
      "name": "denoising_autoencoder.ipynb",
      "provenance": [],
      "authorship_tag": "ABX9TyOm4HIPBloIXuD/zA+s9uR9",
      "include_colab_link": true
    },
    "kernelspec": {
      "name": "python3",
      "display_name": "Python 3"
    },
    "language_info": {
      "name": "python"
    }
  },
  "cells": [
    {
      "cell_type": "markdown",
      "metadata": {
        "id": "view-in-github",
        "colab_type": "text"
      },
      "source": [
        "<a href=\"https://colab.research.google.com/github/RitulMohan/tf.Keras/blob/main/denoising_autoencoder.ipynb\" target=\"_parent\"><img src=\"https://colab.research.google.com/assets/colab-badge.svg\" alt=\"Open In Colab\"/></a>"
      ]
    },
    {
      "cell_type": "code",
      "execution_count": 1,
      "metadata": {
        "id": "6MoRmCpSZyFV"
      },
      "outputs": [],
      "source": [
        "import tensorflow as tf "
      ]
    },
    {
      "cell_type": "code",
      "source": [
        "import numpy as np \n",
        "import matplotlib.pyplot as plt\n",
        "import seaborn as sns\n",
        "import pandas as pd"
      ],
      "metadata": {
        "id": "YfM0tmjPauLf"
      },
      "execution_count": 25,
      "outputs": []
    },
    {
      "cell_type": "code",
      "source": [
        "from tensorflow.keras.datasets import mnist"
      ],
      "metadata": {
        "id": "ONV8Q_OIaP4n"
      },
      "execution_count": 2,
      "outputs": []
    },
    {
      "cell_type": "code",
      "source": [
        "(X_train, Y_train), (X_test, Y_test)=mnist.load_data()"
      ],
      "metadata": {
        "colab": {
          "base_uri": "https://localhost:8080/"
        },
        "id": "qIk7W3JMadWM",
        "outputId": "1679f777-7ea7-4d17-858d-2ddd2be79ff2"
      },
      "execution_count": 3,
      "outputs": [
        {
          "output_type": "stream",
          "name": "stdout",
          "text": [
            "Downloading data from https://storage.googleapis.com/tensorflow/tf-keras-datasets/mnist.npz\n",
            "11493376/11490434 [==============================] - 0s 0us/step\n",
            "11501568/11490434 [==============================] - 0s 0us/step\n"
          ]
        }
      ]
    },
    {
      "cell_type": "code",
      "source": [
        "plt.imshow(X_train[0])"
      ],
      "metadata": {
        "colab": {
          "base_uri": "https://localhost:8080/",
          "height": 282
        },
        "id": "pYHcY5_Zam_Y",
        "outputId": "ac7ec529-b13f-4a6b-8f59-d9ce7eae987a"
      },
      "execution_count": 6,
      "outputs": [
        {
          "output_type": "execute_result",
          "data": {
            "text/plain": [
              "<matplotlib.image.AxesImage at 0x7fa40bed6b10>"
            ]
          },
          "metadata": {},
          "execution_count": 6
        },
        {
          "output_type": "display_data",
          "data": {
            "text/plain": [
              "<Figure size 432x288 with 1 Axes>"
            ],
            "image/png": "[encoded data removed]"
          },
          "metadata": {
            "needs_background": "light"
          }
        }
      ]
    },
    {
      "cell_type": "code",
      "source": [
        "X_train = X_train/255\n",
        "X_test = X_test/255"
      ],
      "metadata": {
        "id": "CSz7isoea7xo"
      },
      "execution_count": 7,
      "outputs": []
    },
    {
      "cell_type": "markdown",
      "source": [
        "## adding noise to the dataset using a **Gaussian Noise** **Layer**"
      ],
      "metadata": {
        "id": "zrL__LG5bDLW"
      }
    },
    {
      "cell_type": "code",
      "source": [
        "from tensorflow.keras.layers import GaussianNoise"
      ],
      "metadata": {
        "id": "NZ-HUOEla_wW"
      },
      "execution_count": 8,
      "outputs": []
    },
    {
      "cell_type": "code",
      "source": [
        "sample = GaussianNoise(0.2)"
      ],
      "metadata": {
        "id": "c0y8f237blug"
      },
      "execution_count": 9,
      "outputs": []
    },
    {
      "cell_type": "code",
      "source": [
        "noisey = sample(X_test[0:2],training=True)"
      ],
      "metadata": {
        "id": "ILrPFzDVbpkW"
      },
      "execution_count": 10,
      "outputs": []
    },
    {
      "cell_type": "code",
      "source": [
        "plt.imshow(noisey[0])"
      ],
      "metadata": {
        "colab": {
          "base_uri": "https://localhost:8080/",
          "height": 282
        },
        "id": "j7EfTr7cbzec",
        "outputId": "050f55c7-ccfd-4f00-ff4e-d4ad40332115"
      },
      "execution_count": 11,
      "outputs": [
        {
          "output_type": "execute_result",
          "data": {
            "text/plain": [
              "<matplotlib.image.AxesImage at 0x7fa4078e2d50>"
            ]
          },
          "metadata": {},
          "execution_count": 11
        },
        {
          "output_type": "display_data",
          "data": {
            "text/plain": [
              "<Figure size 432x288 with 1 Axes>"
            ],
            "image/png": "[encoded data removed]"
          },
          "metadata": {
            "needs_background": "light"
          }
        }
      ]
    },
    {
      "cell_type": "code",
      "source": [
        "from tensorflow.keras.models import Sequential\n",
        "from tensorflow.keras.layers import Dense, Flatten, Reshape"
      ],
      "metadata": {
        "id": "E1yjKC4eb4CW"
      },
      "execution_count": 15,
      "outputs": []
    },
    {
      "cell_type": "markdown",
      "source": [
        "#creating the model"
      ],
      "metadata": {
        "id": "CQzmJBaMc5_H"
      }
    },
    {
      "cell_type": "code",
      "source": [
        "#generate noise\n",
        "tf.random.set_seed(101)\n",
        "np.random.seed(101)"
      ],
      "metadata": {
        "id": "xM3pTCtkc44E"
      },
      "execution_count": 14,
      "outputs": []
    },
    {
      "cell_type": "markdown",
      "source": [
        "Encoder"
      ],
      "metadata": {
        "id": "p18FNbWidH7V"
      }
    },
    {
      "cell_type": "code",
      "source": [
        "encoder = Sequential([\n",
        "     Flatten(input_shape=[28,28]),\n",
        "     GaussianNoise(0.2),\n",
        "     Dense(400,activation='relu'),\n",
        "     Dense(200,activation ='relu'),\n",
        "     Dense(100, activation='relu'),\n",
        "     Dense(50, activation='relu'),\n",
        "     Dense(25,activation ='relu')\n",
        "])"
      ],
      "metadata": {
        "id": "62wbxaRJdE-K"
      },
      "execution_count": 17,
      "outputs": []
    },
    {
      "cell_type": "markdown",
      "source": [
        "Decoder"
      ],
      "metadata": {
        "id": "64JAUCkvexEA"
      }
    },
    {
      "cell_type": "code",
      "source": [
        "decoder = Sequential([\n",
        "   Dense(50, activation ='relu'), \n",
        "   Dense(100, activation ='relu'),\n",
        "   Dense(200, activation='relu'), \n",
        "   Dense(400, activation ='relu'), \n",
        "   Dense(28*28,activation='sigmoid'),\n",
        "   Reshape([28,28])\n",
        "])"
      ],
      "metadata": {
        "id": "6FTWMXCde2Ms"
      },
      "execution_count": 19,
      "outputs": []
    },
    {
      "cell_type": "markdown",
      "source": [
        "Putting the model together "
      ],
      "metadata": {
        "id": "xyp7xfsFf9vr"
      }
    },
    {
      "cell_type": "code",
      "source": [
        "noise_remover = Sequential([encoder, decoder])"
      ],
      "metadata": {
        "id": "1KOmZt4Hf3Yb"
      },
      "execution_count": 20,
      "outputs": []
    },
    {
      "cell_type": "code",
      "source": [
        "noise_remover.compile(loss=\"binary_crossentropy\", optimizer='adam')"
      ],
      "metadata": {
        "id": "wBZa1P8CgDcJ"
      },
      "execution_count": 21,
      "outputs": []
    },
    {
      "cell_type": "code",
      "source": [
        "noise_remover.fit(X_train, X_train, epochs=8,validation_data=[X_test, X_test])"
      ],
      "metadata": {
        "colab": {
          "base_uri": "https://localhost:8080/"
        },
        "id": "AEiZYi5-gQIc",
        "outputId": "26f6951d-c18e-4f06-8a87-5c87f5167c88"
      },
      "execution_count": 22,
      "outputs": [
        {
          "output_type": "stream",
          "name": "stdout",
          "text": [
            "Epoch 1/8\n",
            "1875/1875 [==============================] - 20s 10ms/step - loss: 0.1781 - val_loss: 0.1367\n",
            "Epoch 2/8\n",
            "1875/1875 [==============================] - 20s 11ms/step - loss: 0.1323 - val_loss: 0.1231\n",
            "Epoch 3/8\n",
            "1875/1875 [==============================] - 20s 11ms/step - loss: 0.1223 - val_loss: 0.1161\n",
            "Epoch 4/8\n",
            "1875/1875 [==============================] - 20s 11ms/step - loss: 0.1179 - val_loss: 0.1132\n",
            "Epoch 5/8\n",
            "1875/1875 [==============================] - 20s 10ms/step - loss: 0.1150 - val_loss: 0.1109\n",
            "Epoch 6/8\n",
            "1875/1875 [==============================] - 20s 10ms/step - loss: 0.1121 - val_loss: 0.1081\n",
            "Epoch 7/8\n",
            "1875/1875 [==============================] - 20s 11ms/step - loss: 0.1097 - val_loss: 0.1056\n",
            "Epoch 8/8\n",
            "1875/1875 [==============================] - 19s 10ms/step - loss: 0.1080 - val_loss: 0.1045\n"
          ]
        },
        {
          "output_type": "execute_result",
          "data": {
            "text/plain": [
              "<keras.callbacks.History at 0x7fa407667550>"
            ]
          },
          "metadata": {},
          "execution_count": 22
        }
      ]
    },
    {
      "cell_type": "code",
      "source": [
        "losses= pd.DataFrame(noise_remover.history.history)\n",
        "losses.plot()"
      ],
      "metadata": {
        "colab": {
          "base_uri": "https://localhost:8080/",
          "height": 282
        },
        "id": "TMsTkMCoix-f",
        "outputId": "ccf0511a-6a8d-4077-9792-915bdfe3b327"
      },
      "execution_count": 27,
      "outputs": [
        {
          "output_type": "execute_result",
          "data": {
            "text/plain": [
              "<matplotlib.axes._subplots.AxesSubplot at 0x7fa4072a1cd0>"
            ]
          },
          "metadata": {},
          "execution_count": 27
        },
        {
          "output_type": "display_data",
          "data": {
            "text/plain": [
              "<Figure size 432x288 with 1 Axes>"
            ],
            "image/png": "[encoded data removed]"
          },
          "metadata": {
            "needs_background": "light"
          }
        }
      ]
    },
    {
      "cell_type": "markdown",
      "source": [
        "results"
      ],
      "metadata": {
        "id": "hI4UMnocjyUI"
      }
    },
    {
      "cell_type": "code",
      "source": [
        "ten_noisey_images = sample(X_test[0:10],training=True)\n",
        "denoised = noise_remover(ten_noisey_images[0:10])"
      ],
      "metadata": {
        "id": "XGbzA5bYj7Py"
      },
      "execution_count": 29,
      "outputs": []
    },
    {
      "cell_type": "code",
      "source": [
        "n = 1\n",
        "print(\"The Original\")\n",
        "plt.imshow(X_test[n])\n",
        "plt.show()\n",
        "print(\"The Noisey Version\")\n",
        "plt.imshow(ten_noisey_images[n])\n",
        "plt.show()\n",
        "print(\"After going through denoiser\")\n",
        "plt.imshow(denoised[n])\n",
        "plt.show()"
      ],
      "metadata": {
        "colab": {
          "base_uri": "https://localhost:8080/",
          "height": 812
        },
        "id": "FhtKoF3Sj-3l",
        "outputId": "7c7d5967-1c9a-4c79-8951-6fbb051a5bb6"
      },
      "execution_count": 30,
      "outputs": [
        {
          "output_type": "stream",
          "name": "stdout",
          "text": [
            "The Original\n"
          ]
        },
        {
          "output_type": "display_data",
          "data": {
            "text/plain": [
              "<Figure size 432x288 with 1 Axes>"
            ],
            "image/png": "[encoded data removed]"
          },
          "metadata": {
            "needs_background": "light"
          }
        },
        {
          "output_type": "stream",
          "name": "stdout",
          "text": [
            "The Noisey Version\n"
          ]
        },
        {
          "output_type": "display_data",
          "data": {
            "text/plain": [
              "<Figure size 432x288 with 1 Axes>"
            ],
            "image/png": "[encoded data removed]"
          },
          "metadata": {
            "needs_background": "light"
          }
        },
        {
          "output_type": "stream",
          "name": "stdout",
          "text": [
            "After going through denoiser\n"
          ]
        },
        {
          "output_type": "display_data",
          "data": {
            "text/plain": [
              "<Figure size 432x288 with 1 Axes>"
            ],
            "image/png": "[encoded data removed]"
          },
          "metadata": {
            "needs_background": "light"
          }
        }
      ]
    }
  ]
}