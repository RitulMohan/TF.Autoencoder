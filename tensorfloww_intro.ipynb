{
  "cells": [
    {
      "cell_type": "markdown",
      "metadata": {
        "id": "view-in-github",
        "colab_type": "text"
      },
      "source": [
        "<a href=\"https://colab.research.google.com/github/RitulMohan/TF.Autoencoder/blob/main/tensorfloww_intro.ipynb\" target=\"_parent\"><img src=\"https://colab.research.google.com/assets/colab-badge.svg\" alt=\"Open In Colab\"/></a>"
      ]
    },
    {
      "cell_type": "markdown",
      "source": [
        "# TENSORFLOW INRODUCTION \n",
        " "
      ],
      "metadata": {
        "id": "awB142ooDJZf"
      }
    },
    {
      "cell_type": "code",
      "source": [
        "import tensorflow as tf"
      ],
      "metadata": {
        "id": "F2x2d0yPDaOo"
      },
      "execution_count": null,
      "outputs": []
    },
    {
      "cell_type": "code",
      "source": [
        "string = tf.Variable(\"Bhay ye toh string hai\" , tf.string)\n",
        "number = tf.Variable(324, tf.int32) \n",
        "floating = tf.Variable(1.2345, tf.float32)\n",
        "\n",
        "print(string)"
      ],
      "metadata": {
        "colab": {
          "base_uri": "https://localhost:8080/"
        },
        "id": "eQMYyGYIGJea",
        "outputId": "357c64c1-326f-4186-e210-3578abf8c6ec"
      },
      "execution_count": null,
      "outputs": [
        {
          "output_type": "stream",
          "name": "stdout",
          "text": [
            "<tf.Variable 'Variable:0' shape=() dtype=string, numpy=b'Bhay ye toh string hai'>\n"
          ]
        }
      ]
    },
    {
      "cell_type": "code",
      "source": [
        "rank1_tensor = tf.Variable([\"BRUH\"], tf.string)\n",
        "rank2_tensor = tf.Variable([[\"Bruh\",\"whatever\"], [\"OK\",\"idc\"]], tf.string)\n",
        "tf.rank(rank1_tensor)\n",
        "tf.rank(rank2_tensor)\n",
        "tf.rank(number)"
      ],
      "metadata": {
        "id": "3u6SZ6FkH8Dx",
        "colab": {
          "base_uri": "https://localhost:8080/"
        },
        "outputId": "87837a45-ffa1-46ba-f9be-a9f7cbd66539"
      },
      "execution_count": null,
      "outputs": [
        {
          "output_type": "execute_result",
          "data": {
            "text/plain": [
              "<tf.Tensor: shape=(), dtype=int32, numpy=0>"
            ]
          },
          "metadata": {},
          "execution_count": 9
        }
      ]
    },
    {
      "cell_type": "code",
      "source": [
        "rank2_tensor.shape"
      ],
      "metadata": {
        "colab": {
          "base_uri": "https://localhost:8080/"
        },
        "id": "V0KZ-qKKjtsR",
        "outputId": "107bce08-391e-41e8-b01d-e58f448beeb7"
      },
      "execution_count": null,
      "outputs": [
        {
          "output_type": "execute_result",
          "data": {
            "text/plain": [
              "TensorShape([2, 2])"
            ]
          },
          "metadata": {},
          "execution_count": 10
        }
      ]
    },
    {
      "cell_type": "markdown",
      "source": [
        "CHANGING SHAPES "
      ],
      "metadata": {
        "id": "y8rmmt4Wo019"
      }
    },
    {
      "cell_type": "code",
      "source": [
        "tensor1 = tf.ones([1,2,3])\n",
        "tensor2 = tf.reshape(tensor1, [3,2,1])\n",
        "print(tensor2)"
      ],
      "metadata": {
        "colab": {
          "base_uri": "https://localhost:8080/"
        },
        "id": "zFm0MlZvozOG",
        "outputId": "6d903a2d-c482-42d4-c8c7-de7732195feb"
      },
      "execution_count": null,
      "outputs": [
        {
          "output_type": "stream",
          "name": "stdout",
          "text": [
            "tf.Tensor(\n",
            "[[[1.]\n",
            "  [1.]]\n",
            "\n",
            " [[1.]\n",
            "  [1.]]\n",
            "\n",
            " [[1.]\n",
            "  [1.]]], shape=(3, 2, 1), dtype=float32)\n"
          ]
        }
      ]
    },
    {
      "cell_type": "markdown",
      "source": [
        "-1 tells the tensor to calculate the size of the dimension in that place\n",
        "\n",
        "this will reshape the tensor to [3,2]\n",
        "\n",
        "The numer of elements in the reshaped tensor MUST match the number in the original"
      ],
      "metadata": {
        "id": "Tm_5EhoJprvO"
      }
    },
    {
      "cell_type": "code",
      "source": [
        "tensor3 = tf.reshape(tensor1, [3,-1])\n",
        "print(tensor3)"
      ],
      "metadata": {
        "colab": {
          "base_uri": "https://localhost:8080/"
        },
        "id": "HdmO4jV2ppVn",
        "outputId": "46687f4a-d5ea-4711-dc74-c9ac945d0a26"
      },
      "execution_count": null,
      "outputs": [
        {
          "output_type": "stream",
          "name": "stdout",
          "text": [
            "tf.Tensor(\n",
            "[[1. 1.]\n",
            " [1. 1.]\n",
            " [1. 1.]], shape=(3, 2), dtype=float32)\n"
          ]
        }
      ]
    },
    {
      "cell_type": "markdown",
      "source": [
        "# SLICING tensors 🤺 "
      ],
      "metadata": {
        "id": "7KhLJJJgtWG8"
      }
    },
    {
      "cell_type": "code",
      "source": [
        "matrix = [[1,2,3,4,5],\n",
        "          [6,7,8,9,10],\n",
        "          [11,12,13,14,15],\n",
        "          [16,17,18,19,20]]\n",
        "tensor = tf.Variable(matrix,tf.int32)\n",
        "print(tensor)\n",
        "print(tf.rank(tensor))\n",
        "print(tf.shape(tensor))   #alternately you can use tensor.shape"
      ],
      "metadata": {
        "colab": {
          "base_uri": "https://localhost:8080/"
        },
        "id": "ytfpfharqO3c",
        "outputId": "f3ee3b69-c8d6-4f2c-b421-c00798082469"
      },
      "execution_count": null,
      "outputs": [
        {
          "output_type": "stream",
          "name": "stdout",
          "text": [
            "<tf.Variable 'Variable:0' shape=(4, 5) dtype=int32, numpy=\n",
            "array([[ 1,  2,  3,  4,  5],\n",
            "       [ 6,  7,  8,  9, 10],\n",
            "       [11, 12, 13, 14, 15],\n",
            "       [16, 17, 18, 19, 20]], dtype=int32)>\n",
            "tf.Tensor(2, shape=(), dtype=int32)\n",
            "tf.Tensor([4 5], shape=(2,), dtype=int32)\n"
          ]
        }
      ]
    },
    {
      "cell_type": "code",
      "source": [
        "#select the 3rd element\n",
        "three = tensor[0,2]\n",
        "print(three)\n",
        "\n",
        "#select the 2nd row\n",
        "second = tensor[1]\n",
        "print(second)\n",
        "\n",
        "#select the 3rd column \n",
        "third = tensor[:, 2]\n",
        "print(third)\n",
        "\n",
        "#select 2 rows at the same time \n",
        "rows_2 = tensor[1::3]\n",
        "print(rows_2)\n",
        "\n",
        "\n",
        "column_1_in_row_2_and_3 = tensor[0:4, 0]\n",
        "print(column_1_in_row_2_and_3)"
      ],
      "metadata": {
        "colab": {
          "base_uri": "https://localhost:8080/"
        },
        "id": "EnGV8laQsQRe",
        "outputId": "61337c5e-5373-4e38-f5af-e6a3f66e423b"
      },
      "execution_count": null,
      "outputs": [
        {
          "output_type": "stream",
          "name": "stdout",
          "text": [
            "tf.Tensor(3, shape=(), dtype=int32)\n",
            "tf.Tensor([ 6  7  8  9 10], shape=(5,), dtype=int32)\n",
            "tf.Tensor([ 3  8 13 18], shape=(4,), dtype=int32)\n",
            "tf.Tensor([[ 6  7  8  9 10]], shape=(1, 5), dtype=int32)\n",
            "tf.Tensor([ 1  6 11 16], shape=(4,), dtype=int32)\n"
          ]
        }
      ]
    },
    {
      "cell_type": "code",
      "source": [
        ""
      ],
      "metadata": {
        "id": "P8m8kufstSBA"
      },
      "execution_count": null,
      "outputs": []
    }
  ],
  "metadata": {
    "colab": {
      "name": "tensorfloww_intro.ipynb",
      "provenance": [],
      "collapsed_sections": [],
      "authorship_tag": "ABX9TyMZrZkPXMnghi7eeTZJf9dz",
      "include_colab_link": true
    },
    "kernelspec": {
      "display_name": "Python 3",
      "name": "python3"
    },
    "language_info": {
      "name": "python"
    }
  },
  "nbformat": 4,
  "nbformat_minor": 0
}